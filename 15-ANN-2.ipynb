{
 "cells": [
  {
   "cell_type": "markdown",
   "metadata": {},
   "source": [
    "Utilizaremos un dataset generado sinteticamente con SciKit Learn"
   ]
  },
  {
   "cell_type": "code",
   "execution_count": 1,
   "metadata": {},
   "outputs": [
    {
     "name": "stdout",
     "output_type": "stream",
     "text": [
      "(2000, 20)\n",
      "(2000,)\n"
     ]
    }
   ],
   "source": [
    "from sklearn.datasets import make_regression\n",
    "X, y = make_regression(n_samples=2000, n_features=20)\n",
    "input_size = X.shape[1]\n",
    "print(X.shape)\n",
    "print(y.shape)"
   ]
  },
  {
   "cell_type": "markdown",
   "metadata": {},
   "source": [
    "Hacemos el split de los conjuntos de training y test."
   ]
  },
  {
   "cell_type": "code",
   "execution_count": 2,
   "metadata": {},
   "outputs": [
    {
     "name": "stdout",
     "output_type": "stream",
     "text": [
      "1600\n",
      "400\n"
     ]
    }
   ],
   "source": [
    "from sklearn.model_selection import train_test_split\n",
    "feature_train, feature_test, labels_train, labels_test = train_test_split(X, y, test_size=0.2, random_state = 42)\n",
    "print(len(feature_train))\n",
    "print(len(feature_test))"
   ]
  },
  {
   "cell_type": "markdown",
   "metadata": {},
   "source": [
    "Importamos PyTorch y almacenamos nuestros split del dataset en Tensores (Tipo de variables que procesa PyTorch)"
   ]
  },
  {
   "cell_type": "code",
   "execution_count": 3,
   "metadata": {},
   "outputs": [
    {
     "name": "stdout",
     "output_type": "stream",
     "text": [
      "tensor([ 1.5126, -1.3265,  0.6902, -1.2114,  0.9272,  0.4409, -0.1437, -0.9094,\n",
      "         0.0413, -1.1474, -0.9255, -0.3206, -0.5760, -0.2354,  0.3289,  0.2457,\n",
      "        -0.1384,  2.0491,  1.0413,  0.1690])\n",
      "tensor([89.2217])\n"
     ]
    }
   ],
   "source": [
    "import torch\n",
    "import torch.nn as nn #PyTorch's module wrapper\n",
    "import torch.optim as optim #PyTorch's optimiser\n",
    "import torch.nn.functional as F\n",
    "from torch.autograd import Variable #PyTorch's implementer of gradient descent and back propogation\n",
    "import matplotlib.pyplot as plt #importing graph plotting functionality\n",
    "%matplotlib inline\n",
    "\n",
    "feature_train_v =  Variable(torch.from_numpy(feature_train).float())\n",
    "labels_train_v =  Variable(torch.from_numpy(labels_train.reshape(-1, 1)).float())\n",
    "feature_test_v =  Variable(torch.from_numpy(feature_test).float())\n",
    "labels_test_v =  Variable(torch.from_numpy(labels_test).float())\n",
    "\n",
    "print (feature_train_v[0])\n",
    "print (labels_train_v[0])"
   ]
  },
  {
   "cell_type": "markdown",
   "metadata": {},
   "source": [
    "El modelo consiste:\n",
    "* Una capada de entrada del tipo lineal (y=xA.T+b) con activación ReLU\n",
    "* Una capa oculta con 20 neuronas de tipo lineal (y=xA.T+b) con activación ReLU\n",
    "* Una capa de salida del tipo lineal (y=xA.T+b) con una unica neurona (Sin función de activación)."
   ]
  },
  {
   "cell_type": "code",
   "execution_count": 4,
   "metadata": {},
   "outputs": [],
   "source": [
    "class Network(nn.Module):\n",
    "    \n",
    "    def __init__(self, input_size, hidden_size):\n",
    "        super(Network, self).__init__()        \n",
    "        self.input_layer = nn.Linear(input_size, hidden_size) #y=xA.T+b\n",
    "        self.hidden1_layer = nn.Linear(hidden_size, hidden_size) \n",
    "        self.output_layer = nn.Linear(hidden_size, 1) \n",
    "        \n",
    "    def forward(self,x):\n",
    "        x = F.relu(self.input_layer(x))\n",
    "        x = F.relu(self.hidden1_layer(x))\n",
    "        return self.output_layer(x)\n",
    "    \n",
    "hidden_neurons = 20    \n",
    "model = Network(input_size, hidden_neurons)\n",
    "\n",
    "# Inicializo los pesos de la red con inicialización xavier\n",
    "def init_weights(m):\n",
    "    if type(m) == nn.Linear:\n",
    "        torch.nn.init.xavier_uniform_(m.weight)\n",
    "        m.bias.data.fill_(0.01)\n",
    "        \n",
    "model.apply(init_weights)\n",
    "\n",
    "loss_fn = nn.SmoothL1Loss()\n",
    "optim = torch.optim.Adam(model.parameters(), lr = 0.001)"
   ]
  },
  {
   "cell_type": "markdown",
   "metadata": {},
   "source": [
    "Entrenamos el modelo"
   ]
  },
  {
   "cell_type": "code",
   "execution_count": 5,
   "metadata": {},
   "outputs": [],
   "source": [
    "all_losses = []\n",
    "for num in range(5000): #epochs    \n",
    "    optim.zero_grad() #zero gradients to not accumulate\n",
    "    \n",
    "    pred = model(feature_train_v) #predict\n",
    "    loss = loss_fn(pred, labels_train_v) #calculate loss\n",
    "    all_losses.append(loss.data)\n",
    "    \n",
    "    loss.backward() #update weights based on loss\n",
    "    optim.step() #update optimiser for next iteration"
   ]
  },
  {
   "cell_type": "markdown",
   "metadata": {},
   "source": [
    "Visualizamos la perdida durante el entrenamiento"
   ]
  },
  {
   "cell_type": "code",
   "execution_count": 6,
   "metadata": {},
   "outputs": [],
   "source": [
    "import numpy as np\n",
    "\n",
    "all_losses_np = np.array(all_losses, dtype = np.float)"
   ]
  },
  {
   "cell_type": "code",
   "execution_count": 7,
   "metadata": {},
   "outputs": [
    {
     "data": {
      "image/png": "[encoded data removed]",
      "text/plain": [
       "<Figure size 432x288 with 1 Axes>"
      ]
     },
     "metadata": {
      "needs_background": "light"
     },
     "output_type": "display_data"
    },
    {
     "name": "stdout",
     "output_type": "stream",
     "text": [
      "Training Loss:  tensor(5.7457e-06)\n"
     ]
    }
   ],
   "source": [
    "plt.plot(all_losses_np)\n",
    "plt.show()\n",
    "\n",
    "print('Training Loss: ', all_losses[-1])"
   ]
  },
  {
   "cell_type": "markdown",
   "metadata": {},
   "source": [
    "Calculamos el score sobre el conjunto de test"
   ]
  },
  {
   "cell_type": "code",
   "execution_count": 8,
   "metadata": {
    "scrolled": false
   },
   "outputs": [
    {
     "name": "stdout",
     "output_type": "stream",
     "text": [
      "R2 Score: 0.9999965055042481\n"
     ]
    }
   ],
   "source": [
    "from sklearn.metrics import r2_score\n",
    "model.eval()\n",
    "with torch.no_grad():\n",
    "    pred = model(feature_test_v).detach().numpy()\n",
    "    score = r2_score(labels_test, pred)\n",
    "    print('R2 Score:', score)"
   ]
  }
 ],
 "metadata": {
  "kernelspec": {
   "display_name": "Python 3",
   "language": "python",
   "name": "python3"
  },
  "language_info": {
   "codemirror_mode": {
    "name": "ipython",
    "version": 3
   },
   "file_extension": ".py",
   "mimetype": "text/x-python",
   "name": "python",
   "nbconvert_exporter": "python",
   "pygments_lexer": "ipython3",
   "version": "3.7.3"
  }
 },
 "nbformat": 4,
 "nbformat_minor": 2
}
