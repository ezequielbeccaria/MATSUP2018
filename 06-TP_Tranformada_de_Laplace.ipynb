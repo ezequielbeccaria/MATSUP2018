{
 "cells": [
  {
   "cell_type": "markdown",
   "metadata": {},
   "source": [
    "# Trabajo Práctico N°06 - Transformada de Laplace\n",
    "Previamente, vimos que la transformada de fourier nos sirve para transformar señales desde el dominio de configuración (tiempo o espacio), al dominio de la frecuencia. Teniendo una señal $x(t)$ y aplicándole la F.T. \n",
    "\n",
    "$$X(\\omega)=\\int_{-\\infty}^{\\infty}x(t)\\;e^{-j\\omega t}\\;dt$$\n",
    "\n",
    "![fourier_transform](img/08-fourier_transform.png)\n",
    "\n",
    "Teniendo en cuenta que las soluciones para los distintos tipos de Ecuaciones Diferenciales pueden ser de dos tipos: \n",
    "\n",
    "* Exponenciales: $e^{at} \\implies {\\partial e^{at}\\over \\partial t} = ae^{at}$ \n",
    "* Senoidales: $\\sin(at) \\implies {\\partial^2 sin(at)\\over \\partial t^2} = a^2 \\sin(at)$ "
   ]
  },
  {
   "cell_type": "markdown",
   "metadata": {},
   "source": [
    "Si analizamos la transformada de fourier, podemos apreciar que el análisis de la señal se realiza en términos de sinusoides:\n",
    "\n",
    "![fourier_sinusoide](img/08-fourier_sinusoide.png)\n",
    "\n",
    "El cual es procedimiento común para pasar funciones en el dominio del tiempo al dominio de la frecuencia. "
   ]
  },
  {
   "cell_type": "code",
   "execution_count": 1,
   "metadata": {
    "collapsed": false
   },
   "outputs": [
    {
     "name": "stderr",
     "output_type": "stream",
     "text": [
      "/home/ezequiel/anaconda3/lib/python3.7/site-packages/numpy/core/numeric.py:501: ComplexWarning: Casting complex values to real discards the imaginary part\n",
      "  return array(a, dtype, copy=False, order=order)\n"
     ]
    },
    {
     "data": {
      "image/png": "[encoded data removed]",
      "text/plain": [
       "<Figure size 432x288 with 1 Axes>"
      ]
     },
     "metadata": {
      "needs_background": "light"
     },
     "output_type": "display_data"
    }
   ],
   "source": [
    "import numpy as np\n",
    "%matplotlib inline\n",
    "import matplotlib.pyplot as plt\n",
    "\n",
    "x = np.linspace(0,10,1000)\n",
    "y = np.exp(complex(0, -1)*x)\n",
    "\n",
    "plt.plot(x,y)\n",
    "plt.show()"
   ]
  },
  {
   "cell_type": "markdown",
   "metadata": {},
   "source": [
    "El problema es que transformar señales desde el dominio del tiempo al dominio de la frecuencia es un poco restrictivo cuando estamos trabajando con Ecuaciones Diferenciales. \n",
    "\n",
    "Ahora, que sucede si en ves de solo pensar en realizar transformaciones en base a sinusoides, también utilizamos exponenciales. Si realizamos la transformada de fourier de la siguiente manera: \n",
    "\n",
    "$$X(\\sigma,\\omega)=\\int_{-\\infty}^{\\infty}[x(t)\\;e^{-\\sigma t}]\\;e^{-j\\omega t}\\;dt$$\n",
    "\n",
    "Si combinamos estos dos términos $e^{-\\sigma t}\\cdot e^{-j\\omega t}=e^{(-\\sigma-j\\omega)t}=e^{st}$, tenemos una variable compleja en la que su parte real, corresponde con respuestas exponenciales, y una parte imaginaria, que corresponde con respuestas sinusoidales. \n",
    "Remplazando $-\\sigma-j\\omega = s$, nuestra transformada queda con la forma: \n",
    "\n",
    "$$X(s)=\\int_{-\\infty}^{\\infty}x(t)\\;e^{st}\\;dt$$\n",
    "\n",
    "La cual es la forma estándar de la transformada de Laplace. "
   ]
  },
  {
   "cell_type": "markdown",
   "metadata": {},
   "source": [
    "La cual implicaria, graficamente hablando, realizar lo siguiente:\n",
    "\n",
    "![transformada_laplace_graficamente](img/08-transformada_laplace_graficamente.png)"
   ]
  },
  {
   "cell_type": "markdown",
   "metadata": {},
   "source": [
    "## Resolución Simbólica de la Transformada de Laplace en Python\n",
    "SymPy tiene implementados métodos para utilizar la transformada de laplace, analíticamente, en python. \n",
    "\n",
    "Para realizar la transformada, en este caso de la función $f(t)=t^2$:"
   ]
  },
  {
   "cell_type": "code",
   "execution_count": 25,
   "metadata": {
    "collapsed": false
   },
   "outputs": [
    {
     "name": "stdout",
     "output_type": "stream",
     "text": [
      "2/s**3\n",
      "-oo\n",
      "0 < re(s)\n"
     ]
    }
   ],
   "source": [
    "from sympy.integrals import laplace_transform\n",
    "from sympy.abc import s, a\n",
    "from sympy import Symbol\n",
    "\n",
    "t = Symbol('t', positive=True)\n",
    "\n",
    "F,a,cond = laplace_transform(t**2, t, s)\n",
    "print(F)\n",
    "print(a)\n",
    "print(cond)"
   ]
  },
  {
   "cell_type": "markdown",
   "metadata": {},
   "source": [
    "## Ejercicios\n",
    "1. Hallar la transformada de Laplace de las siguientes funciones en forma analítica\n",
    "    1. $f(t)=sen(at)$\n",
    "    2. $f(t)=cos(4t)$\n",
    "    3. $f(t)=2\\exp(-2t)$\n",
    "    4. $f(t)=5t^2$\n",
    "2. Hallar la transformada de Laplace de cada una de las siguientes funciones haciendo uso de las tablas de Transformadas.\n",
    "    1. $f(t)=5t-3$\n",
    "    2. $f(t)=6sen(2t)-5cos(2t)$\n",
    "    3. $f(t)=2t^2-e^{-t}$\n",
    "    4. $f(t)=3cos(5t)$\n",
    "    5. $f(t)=(t^2+1)^2$\n",
    "    6. $f(t)=(5e^{2t}-3)^2$\n",
    "3. Hallar la transformada de Laplace de cada una de las funciones indicando las propiedades que pueden utilizarse para llegar al resultado.\n",
    "    1. $f(t)=t^3e^{-3t}$\n",
    "    2. $f(t)=e^{-t}cos(2t)$\n",
    "    3. $f(t)=2e^{3t}sen(4t)$\n",
    "    4. $f(t)=(t+2)^2e^t$\n",
    "    5. $f(t)=e^{2t}[3sen(4t)-4cos(4t)]$\n",
    "    6. $f(t)=4te^{-2t}cosh(5t)$\n",
    "4. Hallar la transformada Inversa de Laplace haciendo uso de la tabla de antitransformadas.\n",
    "    1. $F(s)=\\frac{1}{s^4}$\n",
    "    2. $F(s)=\\frac{6s}{s^2-16}$\n",
    "    3. $F(s)=\\frac{1}{s-a}$\n",
    "    4. $F(s)=\\frac{1}{s^2+4^2}$\n",
    "5. Hallar la transformada Inversa de Laplace mediante el método de descomposición en fracciones simples.\n",
    "    1. $F(s)=\\frac{3s+7}{s^2-2s-3}$\n",
    "    2. $F(s)=\\frac{5s^2-15s-11}{(s^2-s+2)(s^2+4s+4)}$\n",
    "    3. $F(s)=\\frac{2s-1}{s^3-s}$\n",
    "    4. $F(s)=\\frac{3s+1}{(s-1)(s^2+1)}$\n",
    "6. Resolver las siguientes ecuaciones diferenciales por medio de la transformada de Laplace.\n",
    "    1. $f''(t)-3f'(t)+2f(t)=4e^{2t}\\qquad$ para $f(0)=-3$ y $f'(0)=5$\n",
    "    2. $f''(t)+f'(t)=t\\qquad$ para $f(0)=1$ y $f'(0)=-2$\n",
    "    3. $f''(t)-6f'(t)+8f(t)=1\\qquad$ para $f(0)=-2$ y $f'(0)=1$\n",
    "    4. $f''(t)-4f'(t)=senh(2t)\\qquad$ para $f(0)=3$ y $f'(0)=0$"
   ]
  }
 ],
 "metadata": {
  "kernelspec": {
   "display_name": "Python 3",
   "language": "python",
   "name": "python3"
  },
  "language_info": {
   "codemirror_mode": {
    "name": "ipython",
    "version": 3
   },
   "file_extension": ".py",
   "mimetype": "text/x-python",
   "name": "python",
   "nbconvert_exporter": "python",
   "pygments_lexer": "ipython3",
   "version": "3.7.1"
  }
 },
 "nbformat": 4,
 "nbformat_minor": 2
}
