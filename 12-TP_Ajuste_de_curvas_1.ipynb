{
 "cells": [
  {
   "cell_type": "markdown",
   "metadata": {},
   "source": [
    "# Trabajo Práctico N°12 - Descenso de gradiente\n",
    "Cuando resolviamos problemas de clasificación, se intentaba estimar la pertenencia de un punto $x$ a una clase $C=\\{c_1,\\dots,c_k\\}$. Una característica esencial en los casos de regresión es que la variable de respuesta es continua. \n",
    "\n",
    "## Regresión Lineal y No Lineal\n",
    "La regresión lineal es un modelo tal que: \n",
    "\n",
    "$\\hat{y}(x,w)=w^Tx+w_0$\n",
    "\n",
    "Una regresión linear puede ser transformada a una relación no lineal reemplazando $x$ por alguna función no lineal sobre las entradas $\\phi(x)$:\n",
    "\n",
    "$\\hat{y}(x,w)=w^T\\phi(x)+w_0$\n",
    "\n",
    "El modelo sigue siendo lineal en los parámetros $w$, por lo que todavía se llama regresión lineal. Un ejemplo simple, es una función polinomica básica, donde el modelo tiene la siguiente forma: \n",
    "\n",
    "$\\phi(x)=[1,x,x^2,\\dots,x^d]$\n",
    "\n",
    "La siguiente figura, ilustra el efecto de modificar $d$: incrementar los grados de $d$ nos permite crear funciones mas complejas.\n",
    "\n",
    "![lineal_regression_d_change](img/12-lineal_regression_d_change.png)\n",
    "\n",
    "Tambien podemos aplicar una regresion lineal a mas de una variable de entrada. Por ejemplo, si intentamos modelar la temperatura en función de la ubicación. La siguiente figura define dos modelos:\n",
    "\n",
    "a. $F(y\\mid x)=w_0+w_1x_1+w_2x_2$\n",
    "\n",
    "b. $F(y\\mid x)=w_0+w_1x_1+w_2x_2+w_3x_1^2+w_4x_2^2$\n",
    "\n",
    "![lineal_regression_temp](img/12-lineal_regression_temp.png)\n",
    "_________________________________________"
   ]
  },
  {
   "cell_type": "markdown",
   "metadata": {},
   "source": [
    "## Ejemplo Practico\n",
    "Como primer paso, vamos a generar un set de datos basado en la función seno y agregándole algo de ruido."
   ]
  },
  {
   "cell_type": "code",
   "execution_count": 1,
   "metadata": {
    "collapsed": false
   },
   "outputs": [
    {
     "data": {
      "image/png": "[encoded data removed]",
      "text/plain": [
       "<Figure size 720x576 with 1 Axes>"
      ]
     },
     "metadata": {
      "needs_background": "light"
     },
     "output_type": "display_data"
    }
   ],
   "source": [
    "import numpy as np\n",
    "import matplotlib\n",
    "%matplotlib inline\n",
    "import matplotlib.pyplot as plt\n",
    "matplotlib.rcParams['figure.figsize'] = 10, 8\n",
    "\n",
    "x = np.linspace(-3, 3, 100)\n",
    "#print(x)\n",
    "rng = np.random.RandomState(42)\n",
    "y = np.sin(4 * x) + x + rng.uniform(size=len(x))\n",
    "plt.scatter(x, y);\n",
    "plt.grid()\n",
    "plt.show()"
   ]
  },
  {
   "cell_type": "markdown",
   "metadata": {},
   "source": [
    "### Regresión Lineal \n",
    "Primero vamos a tratar a generar un modelo predictivo para los datos utilizando un modelo lineal. Por lo tanto nuestro modelo tendrá la forma: \n",
    "\n",
    "$\\hat{Y}=\\hat{\\beta_0} + \\sum_{\\substack{j=1}}^nX_j \\hat{\\beta_j}$\n",
    "\n",
    "El termino $\\hat{\\beta_0}$ es el punto de corte de la recta con el eje $y$, el mismo es llamado **Bias**. En el mas simple de los casos, podemos tener un solo termino dependiente ($n=1$).\n",
    "La API scikit-learn requiere como variable de salida '$y$' un array uni-dimensional. En cuanto a la entrada $X$ (Se pone en mayúsculas cuando hablamos de matrices), requiere un array multidimensional, aunque sea un array [n,1]. Ambos, deben ser numpy arrays."
   ]
  },
  {
   "cell_type": "code",
   "execution_count": 2,
   "metadata": {
    "collapsed": false
   },
   "outputs": [
    {
     "name": "stdout",
     "output_type": "stream",
     "text": [
      "Before:  (100,)\n",
      "After:  (100, 1)\n"
     ]
    }
   ],
   "source": [
    "#Transformamos el vector x en un array multidimensional incorporándole una dimensión mas \n",
    "print('Before: ', x.shape)\n",
    "X = x[:, np.newaxis]\n",
    "print('After: ', X.shape)"
   ]
  },
  {
   "cell_type": "code",
   "execution_count": 3,
   "metadata": {
    "collapsed": false
   },
   "outputs": [],
   "source": [
    "#Comenzamos dividiendo nuestro dataset en dos partes: training set (80%) y test set (20%):\n",
    "from sklearn.model_selection import train_test_split\n",
    "\n",
    "X_train, X_test, y_train, y_test = train_test_split(X, y, test_size=0.2, random_state=42)"
   ]
  },
  {
   "cell_type": "code",
   "execution_count": 4,
   "metadata": {
    "collapsed": false
   },
   "outputs": [
    {
     "data": {
      "text/plain": [
       "LinearRegression(copy_X=True, fit_intercept=True, n_jobs=1, normalize=False)"
      ]
     },
     "execution_count": 4,
     "metadata": {},
     "output_type": "execute_result"
    }
   ],
   "source": [
    "# A continuación, usamos un algoritmo de aprendizaje implementado en LinearRegression para adaptar un modelo de regresión \n",
    "# lineal a los datos de entrenamiento (Traning Set):\n",
    "from sklearn.linear_model import LinearRegression\n",
    "\n",
    "regressor = LinearRegression()\n",
    "regressor.fit(X_train, y_train)"
   ]
  },
  {
   "cell_type": "code",
   "execution_count": 5,
   "metadata": {
    "collapsed": false
   },
   "outputs": [
    {
     "name": "stdout",
     "output_type": "stream",
     "text": [
      "Weight coefficients:  [0.91118387]\n",
      "y-axis intercept:  0.4555704931223463\n"
     ]
    }
   ],
   "source": [
    "# Una vez entrenado nuestro modelo, podemos obtener los coeficientes obtenidos por el entrenamiento y el valor del termino\n",
    "# independiente \n",
    "print('Weight coefficients: ', regressor.coef_)\n",
    "print('y-axis intercept: ', regressor.intercept_)"
   ]
  },
  {
   "cell_type": "markdown",
   "metadata": {},
   "source": [
    "Como nuestro modelo es lineal, la relación entre la variable dependiente $y$ y la variable independiente $x$ esta definida como:\n",
    "$$y = w_1 \\times x + \\text{bias}$$\n",
    "Evaluando el punto menor y mayor de la variable dependiente en la relación podemos graficar el plot de nuestra regresión en base a nuestros datos de entrenamiento."
   ]
  },
  {
   "cell_type": "code",
   "execution_count": 6,
   "metadata": {
    "collapsed": false
   },
   "outputs": [
    {
     "data": {
      "image/png": "[encoded data removed]",
      "text/plain": [
       "<Figure size 432x288 with 1 Axes>"
      ]
     },
     "metadata": {
      "needs_background": "light"
     },
     "output_type": "display_data"
    }
   ],
   "source": [
    "min_pt = X.min() * regressor.coef_[0] + regressor.intercept_\n",
    "max_pt = X.max() * regressor.coef_[0] + regressor.intercept_\n",
    "\n",
    "plt.plot([X.min(), X.max()], [min_pt, max_pt])\n",
    "plt.scatter(X_train, y_train);\n",
    "plt.grid()\n",
    "plt.show()"
   ]
  },
  {
   "cell_type": "markdown",
   "metadata": {},
   "source": [
    "Ahora vamos a probar como se comporta nuestro modelo con los datos de test."
   ]
  },
  {
   "cell_type": "code",
   "execution_count": 7,
   "metadata": {
    "collapsed": false
   },
   "outputs": [
    {
     "data": {
      "image/png": "[encoded data removed]",
      "text/plain": [
       "<Figure size 432x288 with 1 Axes>"
      ]
     },
     "metadata": {
      "needs_background": "light"
     },
     "output_type": "display_data"
    }
   ],
   "source": [
    "y_pred_test = regressor.predict(X_test)\n",
    "plt.scatter(X_test, y_test, label=\"data\")\n",
    "plt.scatter(X_test, y_pred_test, label=\"prediction\")\n",
    "plt.plot([X.min(), X.max()], [min_pt, max_pt], label='fit')\n",
    "plt.legend(loc='best');\n",
    "plt.grid()\n",
    "plt.show()"
   ]
  },
  {
   "cell_type": "markdown",
   "metadata": {},
   "source": [
    "Scikit-learn provee un mecanismo para evaluar cuantitativamente la predicción utilizando el método ``score``. Para tareas de regresión. En este caso vamos a usar R<sup>2</sup> score (http://scikit-learn.org/stable/modules/generated/sklearn.linear_model.LinearRegression.html#sklearn.linear_model.LinearRegression.score). **R2 Score** es la suma cuadratica de los resudios de la estimacion. Esto es: \n",
    "$$r2=1 - \\frac{u}{v}$$\n",
    "donde\n",
    "$$u=\\sum_{j=1}^N (y_j-\\hat{y}_j)^2 \\qquad \\hat{y}_j = valor\\;estimado $$\n",
    "y\n",
    "$$v=\\sum_{j=1}^N (y_j-\\bar{y})^2 \\qquad \\bar{y} = media\\;valores\\;reales $$\n",
    "Donde $r2=1$ representa un modelo que se ajusta de manera perfecta a los datos."
   ]
  },
  {
   "cell_type": "code",
   "execution_count": 8,
   "metadata": {
    "collapsed": false
   },
   "outputs": [
    {
     "name": "stdout",
     "output_type": "stream",
     "text": [
      "0.8221820076665118\n"
     ]
    }
   ],
   "source": [
    "from sklearn import metrics\n",
    "print(metrics.r2_score(y_test, y_pred_test))"
   ]
  },
  {
   "cell_type": "markdown",
   "metadata": {},
   "source": [
    "_____________________________________________\n",
    "## Función de costo\n",
    "En el ejemplo anterior, se realizo una búsqueda de coeficientes tales que minimicen el error promedio sobre los datos conocidos. Esto se puede expresar a través de una función que es llamada **Función de costo**.\n",
    "\n",
    "$\\ell(w)\\triangleq\\sum_{i=1}^N log\\;[y_i - \\hat{f}(x_i, w)]^2$\n",
    "\n",
    "Si en vez de maximizar la función de costo, intentamos minimizar la misma, la podemos expresar como la función negativa de costo:\n",
    "\n",
    "$\\ell(w)\\triangleq-\\sum_{i=1}^N log\\;p(y_i\\mid x_i, w)$\n",
    "\n",
    "Si expresamos la definición previa en forma de multiplicación de matrices\n",
    "\n",
    "$\\ell(w)\\triangleq \\frac{1}{2}(y-Xw)^T(y-Xw)$\n",
    "\n",
    "Y finalmente, el gradiente de la función de costo, expresado matricialmente es:\n",
    "\n",
    "$\\nabla\\ell(w)=X^TXw-X^Ty$\n",
    "\n",
    "__________________________________________\n",
    "\n",
    "## Gradient Descent\n",
    "Para optimizar modelos predictivos, tanto para clasificación, como así también para regresión. Uno de los métodos mas difundidos es **Descenso de Gradiente (Gradient Descent)**.\n",
    "\n",
    "El descenso de gradiente es un algoritmo de optimización iterativa de primer orden para encontrar un mínimo local de una función. Para realizar esto, se dan pasos proporcionales al negativo del gradiente (o gradiente aproximado) de la función en el punto actual. Si, en cambio, uno toma pasos proporcionales al positivo del gradiente, uno se aproxima a un máximo local de esa función; este ultimo procedimiento se conoce como ascenso de gradiente.\n",
    "\n",
    "El método de descenso de gradiente esta basado en la observación de una función $F(x)$ multi-variable que sea definida y diferenciable en la cercanía de un punto $a$. Evaluando el grandiente en el punto $a_n$ se puede estimar un nuevo valor $a_{n+1}$ donde se minimize $F(x)$. Esto es:\n",
    "$$a_{n+1}=a_n - \\eta\\nabla F(a_n)$$\n",
    "para un $\\eta$ suficientemente pequeño, se puede asegurar que $F(a_n)\\geq F(a_{n+1})$.\n",
    "\n",
    "Entonces, asumiendo un mínimo local inicial $a_0$ de $F(x)$, podemos ir descendiendo iterativamente a través de los distintos $a_0,a_1,a_2,\\dots$ donde $F(a_0)\\geq F(a_1)\\geq F(a_2)\\geq\\dots$ hasta encontrar un $x_n\\mid n\\geq 0$ que converge al mínimo local deseado.\n",
    "\n",
    "![gradient_descent](img/12-gradient_descent.gif)\n",
    "\n",
    "Un elemento clave en este método es determinar un correcto valor de $\\eta$. Si el valor de $\\eta$ es muy pequeño, el método va a requerir muchas iteraciones para converger, puede quedar atrapado en mínimos locales y nunca alcanzar un mínimo global. Al contrario, si el $\\eta$ es muy grande, el método puede sufrir oscilaciones permanentes y diverger.\n",
    "\n",
    "Otro punto muy importante, es determinar un buen punto inicial $a_0$ para el método. Dependiendo del punto inicial elegido, el método puede converger a resultados muy distintos.\n",
    "\n",
    "![gd_multiple_local_minimum](img/12-gd_multiple_local_minimum.jpg)"
   ]
  },
  {
   "cell_type": "markdown",
   "metadata": {},
   "source": [
    "## Ejercicio: \n",
    "1) Implementar Gradient Descent y entrenar un estimador para el problema previo utilizando como función de costo:\n",
    "$$\\ell(w)\\triangleq \\frac{1}{2}w^T(X^TX)w-w^T(X^Ty)$$"
   ]
  },
  {
   "cell_type": "code",
   "execution_count": 9,
   "metadata": {},
   "outputs": [
    {
     "ename": "NameError",
     "evalue": "name 'gW' is not defined",
     "output_type": "error",
     "traceback": [
      "\u001b[0;31m---------------------------------------------------------------------------\u001b[0m",
      "\u001b[0;31mNameError\u001b[0m                                 Traceback (most recent call last)",
      "\u001b[0;32m<ipython-input-9-447ab04eb523>\u001b[0m in \u001b[0;36m<module>\u001b[0;34m()\u001b[0m\n\u001b[1;32m     69\u001b[0m     \u001b[0;32mreturn\u001b[0m \u001b[0mW\u001b[0m\u001b[0;34m,\u001b[0m \u001b[0mloss\u001b[0m\u001b[0;34m,\u001b[0m \u001b[0mt\u001b[0m\u001b[0;34m\u001b[0m\u001b[0;34m\u001b[0m\u001b[0m\n\u001b[1;32m     70\u001b[0m \u001b[0;34m\u001b[0m\u001b[0m\n\u001b[0;32m---> 71\u001b[0;31m \u001b[0mW\u001b[0m\u001b[0;34m,\u001b[0m \u001b[0mloss_train\u001b[0m\u001b[0;34m,\u001b[0m \u001b[0m_\u001b[0m \u001b[0;34m=\u001b[0m \u001b[0mtrain_linear_predictor\u001b[0m\u001b[0;34m(\u001b[0m\u001b[0mX_train\u001b[0m\u001b[0;34m,\u001b[0m \u001b[0my_train\u001b[0m\u001b[0;34m,\u001b[0m \u001b[0mlr_loss\u001b[0m\u001b[0;34m,\u001b[0m \u001b[0mlr_grad\u001b[0m\u001b[0;34m,\u001b[0m \u001b[0mmax_iter\u001b[0m\u001b[0;34m=\u001b[0m\u001b[0;36m30\u001b[0m\u001b[0;34m,\u001b[0m \u001b[0mtol\u001b[0m\u001b[0;34m=\u001b[0m\u001b[0;36m1e-4\u001b[0m\u001b[0;34m,\u001b[0m \u001b[0mdebug\u001b[0m\u001b[0;34m=\u001b[0m\u001b[0;32mTrue\u001b[0m\u001b[0;34m)\u001b[0m\u001b[0;34m\u001b[0m\u001b[0;34m\u001b[0m\u001b[0m\n\u001b[0m",
      "\u001b[0;32m<ipython-input-9-447ab04eb523>\u001b[0m in \u001b[0;36mtrain_linear_predictor\u001b[0;34m(X, Y, loss_fn, grad_fn, eta, max_iter, tol, debug)\u001b[0m\n\u001b[1;32m     49\u001b[0m \u001b[0;34m\u001b[0m\u001b[0m\n\u001b[1;32m     50\u001b[0m         \u001b[0;31m# gradiente en (X,Y,W)\u001b[0m\u001b[0;34m\u001b[0m\u001b[0;34m\u001b[0m\u001b[0;34m\u001b[0m\u001b[0m\n\u001b[0;32m---> 51\u001b[0;31m         \u001b[0mgW\u001b[0m \u001b[0;34m=\u001b[0m \u001b[0mgrad_fn\u001b[0m\u001b[0;34m(\u001b[0m\u001b[0mX\u001b[0m\u001b[0;34m,\u001b[0m \u001b[0mY\u001b[0m\u001b[0;34m,\u001b[0m \u001b[0mW\u001b[0m\u001b[0;34m)\u001b[0m\u001b[0;34m\u001b[0m\u001b[0;34m\u001b[0m\u001b[0m\n\u001b[0m\u001b[1;32m     52\u001b[0m \u001b[0;34m\u001b[0m\u001b[0m\n\u001b[1;32m     53\u001b[0m         \u001b[0;31m# actualización de parámetros\u001b[0m\u001b[0;34m\u001b[0m\u001b[0;34m\u001b[0m\u001b[0;34m\u001b[0m\u001b[0m\n",
      "\u001b[0;32m<ipython-input-9-447ab04eb523>\u001b[0m in \u001b[0;36mlr_grad\u001b[0;34m(X, Y, W)\u001b[0m\n\u001b[1;32m     24\u001b[0m     \u001b[0;31m#   la última componente contiene el gradiente respecto del término de bias\u001b[0m\u001b[0;34m\u001b[0m\u001b[0;34m\u001b[0m\u001b[0;34m\u001b[0m\u001b[0m\n\u001b[1;32m     25\u001b[0m \u001b[0;34m\u001b[0m\u001b[0m\n\u001b[0;32m---> 26\u001b[0;31m     \u001b[0;32mreturn\u001b[0m \u001b[0mgW\u001b[0m\u001b[0;34m\u001b[0m\u001b[0;34m\u001b[0m\u001b[0m\n\u001b[0m\u001b[1;32m     27\u001b[0m \u001b[0;34m\u001b[0m\u001b[0m\n\u001b[1;32m     28\u001b[0m \u001b[0;32mdef\u001b[0m \u001b[0mtrain_linear_predictor\u001b[0m\u001b[0;34m(\u001b[0m\u001b[0mX\u001b[0m\u001b[0;34m,\u001b[0m \u001b[0mY\u001b[0m\u001b[0;34m,\u001b[0m \u001b[0mloss_fn\u001b[0m\u001b[0;34m,\u001b[0m \u001b[0mgrad_fn\u001b[0m\u001b[0;34m,\u001b[0m \u001b[0meta\u001b[0m\u001b[0;34m=\u001b[0m\u001b[0;36m0.1\u001b[0m\u001b[0;34m,\u001b[0m \u001b[0mmax_iter\u001b[0m\u001b[0;34m=\u001b[0m\u001b[0;36m100\u001b[0m\u001b[0;34m,\u001b[0m \u001b[0mtol\u001b[0m\u001b[0;34m=\u001b[0m\u001b[0;36m0.001\u001b[0m\u001b[0;34m,\u001b[0m \u001b[0mdebug\u001b[0m\u001b[0;34m=\u001b[0m\u001b[0;32mFalse\u001b[0m\u001b[0;34m)\u001b[0m\u001b[0;34m:\u001b[0m\u001b[0;34m\u001b[0m\u001b[0;34m\u001b[0m\u001b[0m\n",
      "\u001b[0;31mNameError\u001b[0m: name 'gW' is not defined"
     ]
    }
   ],
   "source": [
    "def lr_loss(X, Y, W):\n",
    "    # X: matriz de muestras de entrenamiento\n",
    "    # Y: etiquetas\n",
    "    # W: vector de coeficientes. Incluye el término de \"bias\" como última componente\n",
    "    n_samples, n_dim = X.shape\n",
    "    assert len(Y) == n_samples\n",
    "    \n",
    "    w, w0 = W[:n_dim], W[-1]\n",
    "    loss = 0\n",
    "    \n",
    "    # TODO: implementar función de costo\n",
    "    \n",
    "    return loss\n",
    "\n",
    "def lr_grad(X, Y, W):\n",
    "    # X: matriz de muestras de entrenamiento\n",
    "    # Y: etiquetas\n",
    "    # w: vector de coeficientes. Incluye el término de \"bias\" como última componente\n",
    "    n_samples, n_dim = X.shape\n",
    "    assert len(Y) == n_samples   \n",
    "         \n",
    "    # TODO: implementar el cómputo del gradiente.\n",
    "    #   Retornar como un arreglo unidimensional de dimensión n_dim+1, en donde \n",
    "    #   la última componente contiene el gradiente respecto del término de bias    \n",
    "       \n",
    "    return gW\n",
    "\n",
    "def train_linear_predictor(X, Y, loss_fn, grad_fn, eta=0.1, max_iter=100, tol=0.001, debug=False):    \n",
    "    # X: matriz de muestras de entrenamiento\n",
    "    # Y: etiquetas\n",
    "    # loss_fn: función de costo. Tiene que tomar como argumentos X, Y y W, con W los parámetros del modelo\n",
    "    # grad_fn: función que computa (y evalúa en X,Y,W) el gradiente de la \n",
    "    #   función de costo respecto de los parámetros del modelo\n",
    "    # lambda_: parámetro de regularización (weight decay)\n",
    "    # eta: tasa de aprendizaje\n",
    "    # max_iter: número máximo de iteraciones de decenso de gradiente\n",
    "    # tol: criterio de parada por no evolución en la función de costo\n",
    "    n_samples, n_dim = X.shape\n",
    "    \n",
    "    # Initialization \"Xavier\". Vector de dimensionalidad n_dim +1 porque\n",
    "    # inicluye el término de bias. Este último se inicializa a cero\n",
    "    W = np.random.normal(scale=np.sqrt(2./n_dim), size=n_dim+1)\n",
    "    W[-1] = 0.     \n",
    "        \n",
    "    prev_loss, loss = np.inf, loss_fn(X, Y, W)\n",
    "    \n",
    "    # descenso de gradiente\n",
    "    for t in range(max_iter):\n",
    "        \n",
    "        # gradiente en (X,Y,W)\n",
    "        gW = grad_fn(X, Y, W)                \n",
    "        \n",
    "        # actualización de parámetros\n",
    "        #  W[:n_dim] corresponden a los coeficientes del término lineal\n",
    "        #  W[-1] corresponde al término de bias\n",
    "        # W[:n_dim] = ...\n",
    "        # W[-1] = ...\n",
    "    \n",
    "        prev_loss = loss\n",
    "        loss = loss_fn(X, Y, W)\n",
    "        \n",
    "        if (prev_loss - loss) / np.abs((prev_loss + 2**-23)) < tol:\n",
    "            if debug:\n",
    "                print('done')\n",
    "            break\n",
    "        if debug:    \n",
    "            print('t={}, loss={:.3e}'.format(t, loss))\n",
    "\n",
    "    return W, loss, t\n",
    "\n",
    "W, loss_train, _ = train_linear_predictor(X_train, y_train, lr_loss, lr_grad, max_iter=30, tol=1e-4, debug=True)"
   ]
  },
  {
   "cell_type": "code",
   "execution_count": null,
   "metadata": {},
   "outputs": [],
   "source": [
    "n_samples, n_dim = X_test.shape\n",
    "\n",
    "y_pred_test = X_test.dot(W[:n_dim])+W[-1]\n",
    "plt.scatter(X_test, y_test, label=\"data\")\n",
    "plt.scatter(X_test, y_pred_test, label=\"prediction\")\n",
    "plt.plot([X.min(), X.max()], [min_pt, max_pt], label='fit')\n",
    "plt.legend(loc='best');\n",
    "plt.grid()\n",
    "plt.show()"
   ]
  },
  {
   "cell_type": "markdown",
   "metadata": {},
   "source": [
    "## Cross-Validation (Validación Cruzada)\n",
    "En los ejemplos previos, dividimos nuestro conjunto de datos en dos partes, un conjunto de entrenamiento (traning set) y un conjunto de prueba (test set). Utilizamos el conjunto de entrenamiento para ajustar nuestro modelo y el conjunto de prueba para evaluar el poder de generalización del mismo (Que tan bien predice datos nunca vistos).\n",
    "\n",
    "![train_test_split](img/11-train_test_split.png)"
   ]
  },
  {
   "cell_type": "markdown",
   "metadata": {},
   "source": [
    "Todo el tuneo de nuestro modelo predictivo se debería realizar utilizando los datos de entrenamiento. Sin utilizar los datos de test para nada. Si nuestros modelos predictivos tienen hiper-parámetros para tunear, necesitaríamos volver a sub-dividir nuestro conjunto de entrenamiento para poder validar que conjunto de hiper-parámetros es mejor.\n",
    "\n",
    "![cross_validation_and_hyperparams](img/12-cross_validation_and_hyperparams.jpeg)\n",
    "\n",
    "Esta técnica se llama **Validación Cruzada**, de se divide en k (normalmente $5<=k<=10$) conjuntos y por cada iteración, uno de los conjuntos \"k\" es usado como conjunto de prueba. De esta forma, alternando el fold que es de validación, podemos evitar el sesgo en los datos de entrenamiento para realizar el tuneo de los hiper-parámetros de nuestro modelo predictivo. \n",
    "\n",
    "![cross_validation](img/12-cross_validation.png)"
   ]
  },
  {
   "cell_type": "markdown",
   "metadata": {},
   "source": [
    "Scikit-learn también tiene una herramienta para realizar esto. Por lo tanto, vamos a tomar el mismo ejemplo que en el caso anterior y vamos a utilizar cross-validation."
   ]
  },
  {
   "cell_type": "code",
   "execution_count": null,
   "metadata": {},
   "outputs": [],
   "source": [
    "from sklearn.model_selection import KFold\n",
    "kf = KFold(n_splits=5, shuffle=True)\n",
    "kf.get_n_splits(X_train, y_train)\n",
    "    \n",
    "print(kf)  \n",
    "\n",
    "\n",
    "for train_index, val_index in kf.split(X):\n",
    "   print(\"TRAIN:\", train_index, \"TEST:\", val_index)\n",
    "   X_train, X_val = X[train_index], X[val_index]\n",
    "   y_train, y_val = y[train_index], y[val_index]"
   ]
  },
  {
   "cell_type": "markdown",
   "metadata": {},
   "source": [
    "## Ejercicio: \n",
    "2) Utilizar **validación cruzada** (con $k=5$) para determinar el mejor valor del parametro $\\eta$ (eta) de **descenso de gradiente**. El mejor valor de $\\eta$ es aquel que mejor score (R2 score) genera al final del proceso de entrenamiento, al aplicar **descenso de gradiente** para buscar los parametros $w$ del modelo predictivo. \n",
    "\n",
    "A tener en cuenta:\n",
    " 1. Los valores de $\\eta$ tienen que ser obtenidos de forma aleatoria del intervalo $[0.001 \\leq \\eta \\leq 0.1]$. Evaluar almenos **10 valores distintos**. \n",
    " 2. Calcular el R2 Score de cada valor de $\\eta$ utilizado \n",
    " 3. Seleccionar el mejor $\\eta$ y volver a entrenar un nuevo predictor utilizando todo el conjunto de entrenamiento (si dividirlo en folds).\n",
    " 4. Evaluar el R2 Score del modelo final.\n",
    "\n",
    "3) Aplicar el mismo procedimiento para el siguiente dataset "
   ]
  },
  {
   "cell_type": "code",
   "execution_count": null,
   "metadata": {},
   "outputs": [],
   "source": [
    "from mpl_toolkits.mplot3d import Axes3D\n",
    "fig = plt.figure()\n",
    "ax = fig.add_subplot(111, projection='3d')\n",
    "\n",
    "x = np.linspace(-3, 3, 100)\n",
    "y = np.linspace(-3, 3, 100)\n",
    "#print(x)\n",
    "rng = np.random.RandomState(42)\n",
    "z = np.sin(4 * x) + x + 3*rng.uniform(size=len(x)) + y**2\n",
    "ax.scatter(x, y, z);\n"
   ]
  }
 ],
 "metadata": {
  "kernelspec": {
   "display_name": "Python 3",
   "language": "python",
   "name": "python3"
  },
  "language_info": {
   "codemirror_mode": {
    "name": "ipython",
    "version": 3
   },
   "file_extension": ".py",
   "mimetype": "text/x-python",
   "name": "python",
   "nbconvert_exporter": "python",
   "pygments_lexer": "ipython3",
   "version": "3.7.3"
  }
 },
 "nbformat": 4,
 "nbformat_minor": 2
}
